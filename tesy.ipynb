{
 "cells": [
  {
   "cell_type": "code",
   "execution_count": 2,
   "metadata": {},
   "outputs": [
    {
     "name": "stdout",
     "output_type": "stream",
     "text": [
      "Requirement already satisfied: openCV-python in c:\\users\\sarth\\.conda\\envs\\tensorflow\\lib\\site-packages (4.7.0.72)\n",
      "Requirement already satisfied: numpy>=1.17.3 in c:\\users\\sarth\\.conda\\envs\\tensorflow\\lib\\site-packages (from openCV-python) (1.24.3)\n",
      "Note: you may need to restart the kernel to use updated packages.\n",
      "^C\n",
      "Note: you may need to restart the kernel to use updated packages.\n"
     ]
    }
   ],
   "source": [
    "%pip install openCV-python\n",
    "# %pip install python\n",
    "%pip install tensorflow"
   ]
  },
  {
   "cell_type": "code",
   "execution_count": null,
   "metadata": {},
   "outputs": [],
   "source": [
    "import cv2\n",
    "import numpy as np\n",
    "import maths\n",
    "from cvzone.HandTrackingModule import HandDetector\n",
    "import time\n",
    "from cvzone.ClassificationModule import Classifier\n",
    "# cap = cv2.VideoCapture\n",
    "cap = cv2.VideoCapture(0)\n",
    "\n",
    "detector= HandDetector(maxHands=1)\n",
    "classifier = Classifier(\"Model/keras_model.h5\",\"Model/labels.txt\")\n",
    "# this keras model is the  name of downloaded file from online when we compile the given data of A B C pic folder.\n",
    "\n",
    "offset = 20 \n",
    "\n",
    "imgSize= 300\n",
    "\n",
    "folder= \"Data/A\"\n",
    "# folder= \"Data/B\"\n",
    "# folder= \"Data/C\"\n",
    "\n",
    "counter=0\n",
    "\n",
    "labels= [\"A\", \"B\", \"C\"]\n",
    "\n",
    "while True:\n",
    "    success, img = cap.read()\n",
    "    imgOutput= img.copy()\n",
    "    hands, img = detector.findHands(img)\n",
    "    if hands:\n",
    "        hand = hands[0]\n",
    "\n",
    "        x,y,w,h= hand['bbox']\n",
    "        \n",
    "        imgWhite= np.ones((imgSize, imgSize, 3), np.uint8)*255\n",
    "\n",
    "        imgCrop= img[y- offset:y+h+offset, x-offset:x+w+offset]\n",
    "        \n",
    "        imgCropShape=imgCrop.shape\n",
    "        \n",
    "        aspectRAtio=h/w\n",
    "        if aspectRatio >1:\n",
    "            k=imgSize/h\n",
    "            wCal= math.ceil(k*w)\n",
    "            imgResize = cv2.resize(imgCrop, (wCal, imgSize))\n",
    "            imgResizeShape = imgResize.shape\n",
    "            wGap=math.ceil((imgSize- wCal)/2)\n",
    "            imgWhite[:, wGap:wCal+wGap] = imgResize\n",
    "            prediction, index= classifier.getPrediction(imgWhite , draw= False)\n",
    "            print(prediction , index)\n",
    "\n",
    "\n",
    "        else:\n",
    "            k=imgSize/w\n",
    "            wCal= math.ceil(k*h)\n",
    "            imgResize = cv2.resize(imgCrop, (imgSize, hCal))\n",
    "            imgResizeShape = imgResize.shape\n",
    "            hGap=math.ceil((imgSize- hCal)/2)\n",
    "            imgWhite[ hGap:hCal+hGap, :] = imgResize\n",
    "            prediction, index= classifier.getPrediction(imgWhite)\n",
    "        \n",
    "        cv2.rectangle(imgOutput,(x-offset,y-offset),(x-offset+150,y-offset+50),(255,0,255),cv2.FILLED)\n",
    "\n",
    "        cv2.putText(imgOutput,labels[index], (x,y-20),cv2.FONT_HERSHEY_COMPLEX,2,(255,0,255),2)\n",
    "\n",
    "        cv2.rectangle(imgOutput,(x-offset,y-offset),(x+w+offset,y+h+offset),(255,0,255),4)\n",
    "\n",
    "        \n",
    "        cv2.imshow(\"imagecrop\", imgCrop)\n",
    "        \n",
    "        cv2.imshow(\"imageWhite\", imgWhite)\n",
    "    \n",
    "    cv2.imshow(\"image\",imgOutput)\n",
    "    \n",
    "    key = cv2.waitKey(1) & 0xFF\n",
    "\n",
    "    if key == ord(\"q\"):\n",
    "         break"
   ]
  }
 ],
 "metadata": {
  "kernelspec": {
   "display_name": "tensorflow",
   "language": "python",
   "name": "python3"
  },
  "language_info": {
   "codemirror_mode": {
    "name": "ipython",
    "version": 3
   },
   "file_extension": ".py",
   "mimetype": "text/x-python",
   "name": "python",
   "nbconvert_exporter": "python",
   "pygments_lexer": "ipython3",
   "version": "3.10.8"
  },
  "orig_nbformat": 4,
  "vscode": {
   "interpreter": {
    "hash": "7c9535f37598d57666df5949ea9b0e56ad96ecf26aae602d7607c3f951eb74cd"
   }
  }
 },
 "nbformat": 4,
 "nbformat_minor": 2
}
